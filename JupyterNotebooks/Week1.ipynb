{
 "cells": [
  {
   "cell_type": "markdown",
   "metadata": {},
   "source": [
    "# Cryptography Chats\n",
    "Cryptography is as much an art as it is a science. There are many different fields inside of Cryptography and careers that can take advantage of it. From Computer Science, Civil and Criminal Law, UI Design, Chip Design, Software Optimization, Politics and much much more. It's integral that you understand some of the basic ways of thinking when it comes to Crypto. This course will hopefully help you become a better overall developer. The variety that comes with this is just another added difficulty when it comes to planning for things like this. The goal isn't to master all of the different possible paths that Crypto can take you down but to think critically about all of the situations that you're presented with.\n",
    "\n",
    "Something that's important to ponder is that when people often think of Crypto they think of the locks. They're focused on how you enter and exit a system. Great locks on a door in the house don't mean anything if there's a hole in the wall or an open window to climb through. We need a good supporting system as well. If someone breaks into your house but you catch and can identify them on a ring camera you can figure out how to improve your system in the future. \n",
    "\n",
    "That being said there's a saying that says `Your security system is only as strong as it's weakest link.` Now determining this link isn't always easy. There are many factors such as environment, medium (software, hardware, cloud infastracture, native virtual machine), your opponent, etc. When thinking of this, a good thing to start doing even in your regular life and think about all of the ways you could possibly exploit something. From the simple to the complex this will start helping you get into the malicious mindset. You'll gain a better understanding of systems complex and simple. Now do remember to make an effort to turn it on and off.\n",
    "\n",
    "### Threat Modeling\n",
    "This process leads you down the path of threat modeling. Here's a blurb from wikipedia on the topic.\n",
    "\n",
    ">Threat modeling is a process by which potential threats, such as structural vulnerabilities or the absence of appropriate safeguards, can be identified, enumerated, and mitigations can be prioritized. The purpose of threat modeling is to provide defenders with a systematic analysis of what controls or defenses need to be included, given the nature of the system, the probable attacker's profile, the most likely attack vectors, and the assets most desired by an attacker. Threat modeling answers questions like “Where am I most vulnerable to attack?”, “What are the most relevant threats?”, and “What do I need to do to safeguard against these threats?”.\n",
    ">\n",
    ">Conceptually, most people incorporate some form of threat modeling in their daily life and don't even realize it. Commuters use threat modeling to consider what might go wrong during the morning drive to work and to take preemptive action to avoid possible accidents. Children engage in threat modeling when determining the best path toward an intended goal while avoiding the playground bully. In a more formal sense, threat modeling has been used to prioritize military defensive preparations since antiquity.\n",
    "\n",
    "### Cryptography isn't the end all be all\n",
    "The purpose of a lot of what is going to take place is to understand the process, not necessarily become a security expert. That is going to take time and effort that will long overtake the bounds of this course. You're going to have to study and research. "
   ]
  },
  {
   "cell_type": "code",
   "execution_count": null,
   "metadata": {},
   "outputs": [],
   "source": []
  }
 ],
 "metadata": {
  "language_info": {
   "codemirror_mode": {
    "name": "ipython",
    "version": 3
   },
   "file_extension": ".py",
   "mimetype": "text/x-python",
   "name": "python",
   "nbconvert_exporter": "python",
   "pygments_lexer": "ipython3",
   "version": 3
  },
  "orig_nbformat": 2
 },
 "nbformat": 4,
 "nbformat_minor": 2
}