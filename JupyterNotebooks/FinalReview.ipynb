{
 "cells": [
  {
   "cell_type": "markdown",
   "metadata": {},
   "source": [
    "# Final Review Topics\n",
    "- Randomness\n",
    "- Secure Channel\n",
    "- Prime Numbers\n",
    "- Diffie Hellman Key Exchange\n",
    "- RSA"
   ]
  },
  {
   "source": [
    "## Randomness\n",
    "Measure of Randomness, How it interfaces with OSes, and how Randomness is generated."
   ],
   "cell_type": "markdown",
   "metadata": {}
  },
  {
   "cell_type": "markdown",
   "metadata": {},
   "source": [
    "## Secure Channel\n",
    "\n",
    "Process of keeping things secure as well as testing"
   ]
  },
  {
   "cell_type": "markdown",
   "metadata": {},
   "source": [
    "## Prime Numbers\n",
    "\n",
    "Base topics around this as well as Rabin Miller and the algorithm Sieve of Eratosthenes"
   ]
  },
  {
   "cell_type": "markdown",
   "metadata": {},
   "source": [
    "## Diffie Hellman Key Exchange\n",
    "General knowledge about the protocol. Touching up on its relation to Descrete Logarithms\n"
   ]
  },
  {
   "cell_type": "markdown",
   "metadata": {},
   "source": [
    "## RSA\n",
    "\n",
    "Looking into general topics that we review. Brush up on the Chinese Remainder Theorem. Garner's Theorem\n"
   ]
  },
  {
   "cell_type": "code",
   "execution_count": null,
   "metadata": {},
   "outputs": [],
   "source": []
  }
 ],
 "metadata": {
  "kernelspec": {
   "name": "python391jvsc74a57bd0aee8b7b246df8f9039afb4144a1f6fd8d2ca17a180786b69acc140d282b71a49",
   "display_name": "Python 3.9.1 64-bit"
  },
  "language_info": {
   "codemirror_mode": "java",
   "file_extension": ".jshell",
   "mimetype": "text/x-java-source",
   "name": "Java",
   "pygments_lexer": "java",
   "version": "3.9.1"
  },
  "orig_nbformat": 2,
  "metadata": {
   "interpreter": {
    "hash": "aee8b7b246df8f9039afb4144a1f6fd8d2ca17a180786b69acc140d282b71a49"
   }
  }
 },
 "nbformat": 4,
 "nbformat_minor": 2
}