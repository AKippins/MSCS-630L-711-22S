{
 "cells": [
  {
   "cell_type": "markdown",
   "metadata": {},
   "source": [
    "# Midterm Review Topics\n",
    "- Caesar Cipher\n",
    "- Divisibility\n",
    "- Cryptosystem Notation\n",
    "- Modular Arithemitic "
   ]
  },
  {
   "cell_type": "markdown",
   "metadata": {},
   "source": [
    "## Caesar Cipher\n",
    "For this portion be aware of common terms used when discussing cryptographic literature. For instance terms such as plain text representing our messages and cipher text being seen as the encrypted message."
   ]
  },
  {
   "cell_type": "markdown",
   "metadata": {},
   "source": [
    "## Divisibility\n",
    "I want you to be familiar with using divisibility and understanding the notation. So being able to realize that `3|12` is `true` where as `3|13` is `false`."
   ]
  },
  {
   "cell_type": "markdown",
   "metadata": {},
   "source": [
    "## Cryptographic Notation\n",
    "This section pertains to the mathmatical notation that's used to represent the terms that we often use in our labs. For example in the labs like *P* representing Plain Text Alphabet in the labs. *C* being our Cipher Text Alphabet."
   ]
  },
  {
   "cell_type": "markdown",
   "metadata": {},
   "source": [
    "## Modular Arithemitic\n",
    "Math with matricies is something that you should have from prior math classes and is used in some of the algorithms that we've put into practice already. If you're not familiar or need a refresher here are some videos that can help with that. \n",
    "\n",
    "- [Matrix Addition and Subtraction](https://www.khanacademy.org/math/precalculus/x9e81a4f98389efdf:matrices/x9e81a4f98389efdf:adding-and-subtracting-matrices/a/adding-and-subtracting-matrices)\n",
    "- [Matrix Multiplication](https://www.khanacademy.org/math/precalculus/x9e81a4f98389efdf:matrices/x9e81a4f98389efdf:multiplying-matrices-by-matrices/a/multiplying-matrices)\n",
    "- [Matrix Inverses](https://www.khanacademy.org/math/precalculus/x9e81a4f98389efdf:matrices/x9e81a4f98389efdf:intro-to-matrix-inverses/v/inverse-matrix-part-1)\n",
    "- [Matrix Inverses with Modulus](https://www.youtube.com/watch?v=Rd2-EmS26uw)\n",
    "- [Inverse of a Number](https://www.youtube.com/watch?v=shaQZg8bqUM)"
   ]
  },
  {
   "cell_type": "code",
   "execution_count": null,
   "metadata": {},
   "outputs": [],
   "source": []
  }
 ],
 "metadata": {
  "kernelspec": {
   "display_name": "Java",
   "language": "java",
   "name": "java"
  },
  "language_info": {
   "codemirror_mode": "java",
   "file_extension": ".jshell",
   "mimetype": "text/x-java-source",
   "name": "Java",
   "pygments_lexer": "java",
   "version": "15+36"
  },
  "orig_nbformat": 2
 },
 "nbformat": 4,
 "nbformat_minor": 2
}